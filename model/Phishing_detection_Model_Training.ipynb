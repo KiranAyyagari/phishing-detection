{
  "nbformat": 4,
  "nbformat_minor": 0,
  "metadata": {
    "colab": {
      "name": "Phishing_detection_Model_Training.ipynb",
      "provenance": [],
      "collapsed_sections": []
    },
    "kernelspec": {
      "display_name": "Python 3",
      "name": "python3"
    },
    "language_info": {
      "name": "python"
    }
  },
  "cells": [
    {
      "cell_type": "markdown",
      "metadata": {
        "id": "A1Ln-MBFQ9qx"
      },
      "source": [
        "### Mount Google Drive and import necessary libraries"
      ]
    },
    {
      "cell_type": "code",
      "metadata": {
        "colab": {
          "base_uri": "https://localhost:8080/"
        },
        "id": "nS6723fvQH85",
        "outputId": "51120664-1ac5-440e-81cf-0e0bdd75ea46"
      },
      "source": [
        "from google.colab import drive\n",
        "drive.mount(\"/content/drive\")"
      ],
      "execution_count": null,
      "outputs": [
        {
          "output_type": "stream",
          "name": "stdout",
          "text": [
            "Mounted at /content/drive\n"
          ]
        }
      ]
    },
    {
      "cell_type": "code",
      "metadata": {
        "id": "1MEHuen7Qszc"
      },
      "source": [
        "import pandas as pd\n",
        "import numpy as np\n",
        "from sklearn.preprocessing import OneHotEncoder, LabelEncoder, OrdinalEncoder\n",
        "from sklearn.model_selection import train_test_split, KFold, StratifiedKFold\n",
        "import pickle\n",
        "from sklearn.preprocessing import OneHotEncoder\n",
        "from sklearn import metrics\n",
        "from pprint import pprint\n",
        "from sklearn.naive_bayes import CategoricalNB\n",
        "from sklearn.linear_model import LogisticRegression\n",
        "from sklearn.ensemble import RandomForestClassifier\n",
        "from sklearn.model_selection import GridSearchCV\n",
        "from sklearn.model_selection import RandomizedSearchCV\n",
        "import xgboost as xgb\n",
        "from sklearn.svm import SVC\n",
        "from sklearn.metrics import classification_report, accuracy_score"
      ],
      "execution_count": null,
      "outputs": []
    },
    {
      "cell_type": "markdown",
      "metadata": {
        "id": "ax65zm2nRX9e"
      },
      "source": [
        "##Data Preprocessing"
      ]
    },
    {
      "cell_type": "code",
      "metadata": {
        "colab": {
          "base_uri": "https://localhost:8080/",
          "height": 226
        },
        "id": "4obcT_SGRaOG",
        "outputId": "b65fa249-ed22-4f8d-c4ca-f41b1255e7d6"
      },
      "source": [
        "dataset = pd.read_csv('/content/drive/MyDrive/dataset_updt.csv')\n",
        "dataset.head(5)"
      ],
      "execution_count": null,
      "outputs": [
        {
          "output_type": "execute_result",
          "data": {
            "text/html": [
              "<div>\n",
              "<style scoped>\n",
              "    .dataframe tbody tr th:only-of-type {\n",
              "        vertical-align: middle;\n",
              "    }\n",
              "\n",
              "    .dataframe tbody tr th {\n",
              "        vertical-align: top;\n",
              "    }\n",
              "\n",
              "    .dataframe thead th {\n",
              "        text-align: right;\n",
              "    }\n",
              "</style>\n",
              "<table border=\"1\" class=\"dataframe\">\n",
              "  <thead>\n",
              "    <tr style=\"text-align: right;\">\n",
              "      <th></th>\n",
              "      <th>slno</th>\n",
              "      <th>having_IP_Address</th>\n",
              "      <th>URL_Length</th>\n",
              "      <th>Shortining_Service</th>\n",
              "      <th>having_At_Symbol</th>\n",
              "      <th>double_slash_redirecting</th>\n",
              "      <th>Prefix_Suffix</th>\n",
              "      <th>having_Sub_Domain</th>\n",
              "      <th>SSLfinal_State</th>\n",
              "      <th>Domain_registeration_length</th>\n",
              "      <th>Favicon</th>\n",
              "      <th>port</th>\n",
              "      <th>HTTPS_token</th>\n",
              "      <th>Request_URL</th>\n",
              "      <th>URL_of_Anchor</th>\n",
              "      <th>Links_in_tags</th>\n",
              "      <th>SFH</th>\n",
              "      <th>Submitting_to_email</th>\n",
              "      <th>Abnormal_URL</th>\n",
              "      <th>Redirect</th>\n",
              "      <th>on_mouseover</th>\n",
              "      <th>RightClick</th>\n",
              "      <th>popUpWidnow</th>\n",
              "      <th>Iframe</th>\n",
              "      <th>age_of_domain</th>\n",
              "      <th>DNSRecord</th>\n",
              "      <th>web_traffic</th>\n",
              "      <th>Page_Rank</th>\n",
              "      <th>Google_Index</th>\n",
              "      <th>Links_pointing_to_page</th>\n",
              "      <th>Statistical_report</th>\n",
              "      <th>Result</th>\n",
              "    </tr>\n",
              "  </thead>\n",
              "  <tbody>\n",
              "    <tr>\n",
              "      <th>0</th>\n",
              "      <td>1</td>\n",
              "      <td>-1</td>\n",
              "      <td>1</td>\n",
              "      <td>1</td>\n",
              "      <td>1</td>\n",
              "      <td>-1</td>\n",
              "      <td>-1</td>\n",
              "      <td>-1</td>\n",
              "      <td>-1</td>\n",
              "      <td>-1</td>\n",
              "      <td>1</td>\n",
              "      <td>1</td>\n",
              "      <td>-1</td>\n",
              "      <td>1</td>\n",
              "      <td>-1</td>\n",
              "      <td>1</td>\n",
              "      <td>-1</td>\n",
              "      <td>-1</td>\n",
              "      <td>-1</td>\n",
              "      <td>0</td>\n",
              "      <td>1</td>\n",
              "      <td>1</td>\n",
              "      <td>1</td>\n",
              "      <td>1</td>\n",
              "      <td>-1</td>\n",
              "      <td>-1</td>\n",
              "      <td>-1</td>\n",
              "      <td>-1</td>\n",
              "      <td>1</td>\n",
              "      <td>1</td>\n",
              "      <td>-1</td>\n",
              "      <td>-1</td>\n",
              "    </tr>\n",
              "    <tr>\n",
              "      <th>1</th>\n",
              "      <td>2</td>\n",
              "      <td>1</td>\n",
              "      <td>1</td>\n",
              "      <td>1</td>\n",
              "      <td>1</td>\n",
              "      <td>1</td>\n",
              "      <td>-1</td>\n",
              "      <td>0</td>\n",
              "      <td>1</td>\n",
              "      <td>-1</td>\n",
              "      <td>1</td>\n",
              "      <td>1</td>\n",
              "      <td>-1</td>\n",
              "      <td>1</td>\n",
              "      <td>0</td>\n",
              "      <td>-1</td>\n",
              "      <td>-1</td>\n",
              "      <td>1</td>\n",
              "      <td>1</td>\n",
              "      <td>0</td>\n",
              "      <td>1</td>\n",
              "      <td>1</td>\n",
              "      <td>1</td>\n",
              "      <td>1</td>\n",
              "      <td>-1</td>\n",
              "      <td>-1</td>\n",
              "      <td>0</td>\n",
              "      <td>-1</td>\n",
              "      <td>1</td>\n",
              "      <td>1</td>\n",
              "      <td>1</td>\n",
              "      <td>-1</td>\n",
              "    </tr>\n",
              "    <tr>\n",
              "      <th>2</th>\n",
              "      <td>3</td>\n",
              "      <td>1</td>\n",
              "      <td>0</td>\n",
              "      <td>1</td>\n",
              "      <td>1</td>\n",
              "      <td>1</td>\n",
              "      <td>-1</td>\n",
              "      <td>-1</td>\n",
              "      <td>-1</td>\n",
              "      <td>-1</td>\n",
              "      <td>1</td>\n",
              "      <td>1</td>\n",
              "      <td>-1</td>\n",
              "      <td>1</td>\n",
              "      <td>0</td>\n",
              "      <td>-1</td>\n",
              "      <td>-1</td>\n",
              "      <td>-1</td>\n",
              "      <td>-1</td>\n",
              "      <td>0</td>\n",
              "      <td>1</td>\n",
              "      <td>1</td>\n",
              "      <td>1</td>\n",
              "      <td>1</td>\n",
              "      <td>1</td>\n",
              "      <td>-1</td>\n",
              "      <td>1</td>\n",
              "      <td>-1</td>\n",
              "      <td>1</td>\n",
              "      <td>0</td>\n",
              "      <td>-1</td>\n",
              "      <td>-1</td>\n",
              "    </tr>\n",
              "    <tr>\n",
              "      <th>3</th>\n",
              "      <td>4</td>\n",
              "      <td>1</td>\n",
              "      <td>0</td>\n",
              "      <td>1</td>\n",
              "      <td>1</td>\n",
              "      <td>1</td>\n",
              "      <td>-1</td>\n",
              "      <td>-1</td>\n",
              "      <td>-1</td>\n",
              "      <td>1</td>\n",
              "      <td>1</td>\n",
              "      <td>1</td>\n",
              "      <td>-1</td>\n",
              "      <td>-1</td>\n",
              "      <td>0</td>\n",
              "      <td>0</td>\n",
              "      <td>-1</td>\n",
              "      <td>1</td>\n",
              "      <td>1</td>\n",
              "      <td>0</td>\n",
              "      <td>1</td>\n",
              "      <td>1</td>\n",
              "      <td>1</td>\n",
              "      <td>1</td>\n",
              "      <td>-1</td>\n",
              "      <td>-1</td>\n",
              "      <td>1</td>\n",
              "      <td>-1</td>\n",
              "      <td>1</td>\n",
              "      <td>-1</td>\n",
              "      <td>1</td>\n",
              "      <td>-1</td>\n",
              "    </tr>\n",
              "    <tr>\n",
              "      <th>4</th>\n",
              "      <td>5</td>\n",
              "      <td>1</td>\n",
              "      <td>0</td>\n",
              "      <td>-1</td>\n",
              "      <td>1</td>\n",
              "      <td>1</td>\n",
              "      <td>-1</td>\n",
              "      <td>1</td>\n",
              "      <td>1</td>\n",
              "      <td>-1</td>\n",
              "      <td>1</td>\n",
              "      <td>1</td>\n",
              "      <td>1</td>\n",
              "      <td>1</td>\n",
              "      <td>0</td>\n",
              "      <td>0</td>\n",
              "      <td>-1</td>\n",
              "      <td>1</td>\n",
              "      <td>1</td>\n",
              "      <td>0</td>\n",
              "      <td>-1</td>\n",
              "      <td>1</td>\n",
              "      <td>-1</td>\n",
              "      <td>1</td>\n",
              "      <td>-1</td>\n",
              "      <td>-1</td>\n",
              "      <td>0</td>\n",
              "      <td>-1</td>\n",
              "      <td>1</td>\n",
              "      <td>1</td>\n",
              "      <td>1</td>\n",
              "      <td>1</td>\n",
              "    </tr>\n",
              "  </tbody>\n",
              "</table>\n",
              "</div>"
            ],
            "text/plain": [
              "   slno  having_IP_Address  ...  Statistical_report  Result\n",
              "0     1                 -1  ...                  -1      -1\n",
              "1     2                  1  ...                   1      -1\n",
              "2     3                  1  ...                  -1      -1\n",
              "3     4                  1  ...                   1      -1\n",
              "4     5                  1  ...                   1       1\n",
              "\n",
              "[5 rows x 32 columns]"
            ]
          },
          "metadata": {},
          "execution_count": 4
        }
      ]
    },
    {
      "cell_type": "code",
      "metadata": {
        "colab": {
          "base_uri": "https://localhost:8080/"
        },
        "id": "VRKSbN2bRoxE",
        "outputId": "c20f1038-2ba9-438b-9c8e-030b49859b6b"
      },
      "source": [
        "dataset['Result'].value_counts()"
      ],
      "execution_count": null,
      "outputs": [
        {
          "output_type": "execute_result",
          "data": {
            "text/plain": [
              " 1    6157\n",
              "-1    4898\n",
              "Name: Result, dtype: int64"
            ]
          },
          "metadata": {},
          "execution_count": 5
        }
      ]
    },
    {
      "cell_type": "code",
      "metadata": {
        "id": "qy0_LnfdTzwX"
      },
      "source": [
        "reduced_df = dataset[['having_IP_Address', 'URL_Length', 'Shortining_Service',\n",
        "       'having_At_Symbol', 'double_slash_redirecting', 'Prefix_Suffix',\n",
        "       'having_Sub_Domain', 'SSLfinal_State', 'Domain_registeration_length',\n",
        "       'Favicon', 'HTTPS_token', 'Request_URL', 'URL_of_Anchor',\n",
        "       'Links_in_tags', 'SFH', 'Submitting_to_email', 'Redirect', 'on_mouseover', 'RightClick', 'Iframe',\n",
        "       'age_of_domain', 'DNSRecord', 'web_traffic', 'Page_Rank',\n",
        "       'Statistical_report', 'Result']]"
      ],
      "execution_count": null,
      "outputs": []
    },
    {
      "cell_type": "code",
      "metadata": {
        "id": "ZlYR-_B_T7Le"
      },
      "source": [
        "def convertEncodingToPositive(dataframe):\n",
        "\n",
        "  mapping = {-1: 2, 0: 0, 1: 1}\n",
        "\n",
        "  col_map = {}\n",
        "\n",
        "  for col in dataframe:\n",
        "    col_map[col] = mapping\n",
        "\n",
        "  for i in range(dataframe.shape[0]):\n",
        "    for j in range(dataframe.shape[1]):\n",
        "      dataframe.loc[i][j] = mapping[dataframe.loc[i][j]]"
      ],
      "execution_count": null,
      "outputs": []
    },
    {
      "cell_type": "code",
      "metadata": {
        "id": "2Z15iL5MT_PR"
      },
      "source": [
        "convertEncodingToPositive(reduced_df)"
      ],
      "execution_count": null,
      "outputs": []
    },
    {
      "cell_type": "code",
      "metadata": {
        "colab": {
          "base_uri": "https://localhost:8080/"
        },
        "id": "eipKfjeAU5DP",
        "outputId": "2693f301-a3e8-4324-c5ac-c8df46e7092f"
      },
      "source": [
        "print(reduced_df.head())"
      ],
      "execution_count": null,
      "outputs": [
        {
          "output_type": "stream",
          "name": "stdout",
          "text": [
            "   having_IP_Address  URL_Length  ...  Statistical_report  Result\n",
            "0                  2           1  ...                   2       2\n",
            "1                  1           1  ...                   1       2\n",
            "2                  1           0  ...                   2       2\n",
            "3                  1           0  ...                   1       2\n",
            "4                  1           0  ...                   1       1\n",
            "\n",
            "[5 rows x 26 columns]\n"
          ]
        }
      ]
    },
    {
      "cell_type": "code",
      "metadata": {
        "id": "TH3-9nzAViDz"
      },
      "source": [
        "X_train = reduced_df[['having_IP_Address', 'URL_Length', 'Shortining_Service',\n",
        "       'having_At_Symbol', 'double_slash_redirecting', 'Prefix_Suffix',\n",
        "       'having_Sub_Domain', 'SSLfinal_State', 'Domain_registeration_length',\n",
        "       'Favicon', 'HTTPS_token', 'Request_URL', 'URL_of_Anchor',\n",
        "       'Links_in_tags', 'SFH', 'Submitting_to_email', 'Redirect', 'on_mouseover', 'RightClick', 'Iframe',\n",
        "       'age_of_domain', 'DNSRecord', 'web_traffic', 'Page_Rank',\n",
        "       'Statistical_report']]\n",
        "y_train = reduced_df['Result']\n",
        "X_train,X_test,y_train,y_test = train_test_split(X_train, y_train, test_size=0.2, random_state=4, stratify= y_train)"
      ],
      "execution_count": null,
      "outputs": []
    },
    {
      "cell_type": "code",
      "metadata": {
        "id": "S9QdXpq9XpXN"
      },
      "source": [
        "kf = KFold(n_splits=5, shuffle=True, random_state=1)"
      ],
      "execution_count": null,
      "outputs": []
    },
    {
      "cell_type": "code",
      "metadata": {
        "id": "KvokUQXeYFYg"
      },
      "source": [
        "X_train_red = X_train.to_numpy()\n",
        "X_test_red = X_test.to_numpy()\n",
        "y_train_red = y_train.to_numpy()\n",
        "y_test_red = y_test.to_numpy()"
      ],
      "execution_count": null,
      "outputs": []
    },
    {
      "cell_type": "code",
      "metadata": {
        "colab": {
          "base_uri": "https://localhost:8080/"
        },
        "id": "pe0HrU5kYZKY",
        "outputId": "7bea40e5-c6c2-45ac-c9c0-8a08d46879bc"
      },
      "source": [
        "\n",
        "for train, test in kf.split(X_train_red):\n",
        "  print(X_train_red[train].shape, y_train_red[train].shape, X_train_red[test].shape, y_train_red[test].shape)"
      ],
      "execution_count": null,
      "outputs": [
        {
          "output_type": "stream",
          "name": "stdout",
          "text": [
            "(7075, 25) (7075,) (1769, 25) (1769,)\n",
            "(7075, 25) (7075,) (1769, 25) (1769,)\n",
            "(7075, 25) (7075,) (1769, 25) (1769,)\n",
            "(7075, 25) (7075,) (1769, 25) (1769,)\n",
            "(7076, 25) (7076,) (1768, 25) (1768,)\n"
          ]
        }
      ]
    },
    {
      "cell_type": "code",
      "metadata": {
        "id": "JWR3SVTKnM4N"
      },
      "source": [
        "import pickle\n",
        "from sklearn.preprocessing import OneHotEncoder\n",
        "encoder = OneHotEncoder(sparse=False)\n",
        "X_train_red_onehot = encoder.fit_transform(X_train_red)\n",
        "X_test_red_onehot = encoder.transform(X_test_red)\n",
        "pickle.dump(encoder, open(\"One_Hot_Encoder\", 'wb'))"
      ],
      "execution_count": null,
      "outputs": []
    },
    {
      "cell_type": "markdown",
      "metadata": {
        "id": "rWiiVNfYE4ac"
      },
      "source": [
        "##Model Training\n"
      ]
    },
    {
      "cell_type": "code",
      "metadata": {
        "colab": {
          "base_uri": "https://localhost:8080/"
        },
        "id": "4I3Ux6FJFBeq",
        "outputId": "f42a1095-91ca-47c9-95c0-0b008c766b83"
      },
      "source": [
        "from sklearn.linear_model import LogisticRegression\n",
        "model = LogisticRegression()\n",
        "\n",
        "for train,test in kf.split(X_test_red_onehot):\n",
        "  model.fit(X_train_red_onehot[train], y_train_red[train])\n",
        "  print(metrics.classification_report(y_test_red[test], model.predict(X_test_red_onehot[test])))\n",
        "  print(\"##################################################################################\")\n"
      ],
      "execution_count": null,
      "outputs": [
        {
          "output_type": "stream",
          "name": "stdout",
          "text": [
            "              precision    recall  f1-score   support\n",
            "\n",
            "           1       0.95      0.95      0.95       259\n",
            "           2       0.92      0.93      0.93       184\n",
            "\n",
            "    accuracy                           0.94       443\n",
            "   macro avg       0.94      0.94      0.94       443\n",
            "weighted avg       0.94      0.94      0.94       443\n",
            "\n",
            "##################################################################################\n",
            "              precision    recall  f1-score   support\n",
            "\n",
            "           1       0.90      0.94      0.92       228\n",
            "           2       0.94      0.89      0.91       214\n",
            "\n",
            "    accuracy                           0.92       442\n",
            "   macro avg       0.92      0.92      0.92       442\n",
            "weighted avg       0.92      0.92      0.92       442\n",
            "\n",
            "##################################################################################\n",
            "              precision    recall  f1-score   support\n",
            "\n",
            "           1       0.93      0.95      0.94       255\n",
            "           2       0.92      0.90      0.91       187\n",
            "\n",
            "    accuracy                           0.93       442\n",
            "   macro avg       0.93      0.92      0.92       442\n",
            "weighted avg       0.93      0.93      0.93       442\n",
            "\n",
            "##################################################################################\n",
            "              precision    recall  f1-score   support\n",
            "\n",
            "           1       0.92      0.94      0.93       242\n",
            "           2       0.92      0.91      0.91       200\n",
            "\n",
            "    accuracy                           0.92       442\n",
            "   macro avg       0.92      0.92      0.92       442\n",
            "weighted avg       0.92      0.92      0.92       442\n",
            "\n",
            "##################################################################################\n",
            "              precision    recall  f1-score   support\n",
            "\n",
            "           1       0.92      0.96      0.94       247\n",
            "           2       0.94      0.89      0.92       195\n",
            "\n",
            "    accuracy                           0.93       442\n",
            "   macro avg       0.93      0.92      0.93       442\n",
            "weighted avg       0.93      0.93      0.93       442\n",
            "\n",
            "##################################################################################\n"
          ]
        }
      ]
    },
    {
      "cell_type": "code",
      "metadata": {
        "colab": {
          "base_uri": "https://localhost:8080/"
        },
        "id": "TRAlO2EUXi1a",
        "outputId": "a9098558-d308-41d6-8fc6-cf05408bc004"
      },
      "source": [
        "#Random Forest with Grid searchCv\n",
        "model_rf = RandomForestClassifier(max_features= 'log2' ,n_estimators=200)\n",
        "for train,test in kf.split(X_test_red):\n",
        "  model_rf.fit(X_train_red_onehot[train], y_train_red[train])\n",
        "  print(metrics.classification_report(y_test_red[test], model_rf.predict(X_test_red_onehot[test])))\n",
        "  print(\"##################################################################################\")\n"
      ],
      "execution_count": null,
      "outputs": [
        {
          "output_type": "stream",
          "name": "stdout",
          "text": [
            "              precision    recall  f1-score   support\n",
            "\n",
            "           1       0.96      0.97      0.96       259\n",
            "           2       0.96      0.94      0.95       184\n",
            "\n",
            "    accuracy                           0.96       443\n",
            "   macro avg       0.96      0.95      0.96       443\n",
            "weighted avg       0.96      0.96      0.96       443\n",
            "\n",
            "##################################################################################\n",
            "              precision    recall  f1-score   support\n",
            "\n",
            "           1       0.94      0.96      0.95       228\n",
            "           2       0.95      0.93      0.94       214\n",
            "\n",
            "    accuracy                           0.95       442\n",
            "   macro avg       0.95      0.95      0.95       442\n",
            "weighted avg       0.95      0.95      0.95       442\n",
            "\n",
            "##################################################################################\n",
            "              precision    recall  f1-score   support\n",
            "\n",
            "           1       0.95      0.96      0.96       255\n",
            "           2       0.95      0.94      0.94       187\n",
            "\n",
            "    accuracy                           0.95       442\n",
            "   macro avg       0.95      0.95      0.95       442\n",
            "weighted avg       0.95      0.95      0.95       442\n",
            "\n",
            "##################################################################################\n",
            "              precision    recall  f1-score   support\n",
            "\n",
            "           1       0.93      0.96      0.94       242\n",
            "           2       0.95      0.91      0.93       200\n",
            "\n",
            "    accuracy                           0.94       442\n",
            "   macro avg       0.94      0.93      0.94       442\n",
            "weighted avg       0.94      0.94      0.94       442\n",
            "\n",
            "##################################################################################\n",
            "              precision    recall  f1-score   support\n",
            "\n",
            "           1       0.93      0.96      0.95       247\n",
            "           2       0.95      0.91      0.93       195\n",
            "\n",
            "    accuracy                           0.94       442\n",
            "   macro avg       0.94      0.94      0.94       442\n",
            "weighted avg       0.94      0.94      0.94       442\n",
            "\n",
            "##################################################################################\n"
          ]
        }
      ]
    },
    {
      "cell_type": "code",
      "metadata": {
        "colab": {
          "base_uri": "https://localhost:8080/"
        },
        "id": "1Y_wACl0Rpg1",
        "outputId": "19c7dc44-db8c-4e16-ed19-f45679b9ca47"
      },
      "source": [
        "#XGBoost\n",
        "\n",
        "\n",
        "xgb_model = xgb.XGBClassifier(silent=False, \n",
        "                        scale_pos_weight=1,\n",
        "                        learning_rate=0.01,  \n",
        "                        colsample_bytree = 0.4,\n",
        "                        subsample = 0.8,\n",
        "                        objective='binary:logistic', \n",
        "                        n_estimators=1000, \n",
        "                        reg_alpha = 0.3,\n",
        "                        max_depth=4, \n",
        "                        gamma=10)\n",
        "\n",
        "for train,test in kf.split(X_test_red):\n",
        "  xgb_model.fit(X_train_red_onehot[train], y_train_red[train])\n",
        "  print(metrics.classification_report(y_test_red[test], xgb_model.predict(X_test_red_onehot[test])))\n",
        "  print(\"##################################################################################\")\n",
        "\n",
        "\n",
        "# parameters = {'nthread':[4],\n",
        "#               'objective':['binary:logistic'],\n",
        "#               'learning_rate': [0.05], \n",
        "#               'max_depth': [6,7,8],\n",
        "#               'min_child_weight': [11],\n",
        "#               'silent': [1],\n",
        "#               'subsample': [0.8],\n",
        "#               'colsample_bytree': [0.7],\n",
        "#               'n_estimators': [5],\n",
        "#               'missing':[-999],\n",
        "#               'seed': [1337]}\n",
        "\n",
        "\n",
        "# clf = GridSearchCV(xgb_model, parameters, n_jobs=5, \n",
        "#                    cv=StratifiedKFold(n_splits=5, shuffle=True), \n",
        "#                    scoring='roc_auc',\n",
        "#                    verbose=2, refit=True)\n",
        "\n",
        "# clf.fit(X_train_red_onehot, y_train_red)"
      ],
      "execution_count": null,
      "outputs": [
        {
          "output_type": "stream",
          "name": "stdout",
          "text": [
            "              precision    recall  f1-score   support\n",
            "\n",
            "           1       0.95      0.91      0.93       259\n",
            "           2       0.88      0.93      0.91       184\n",
            "\n",
            "    accuracy                           0.92       443\n",
            "   macro avg       0.92      0.92      0.92       443\n",
            "weighted avg       0.92      0.92      0.92       443\n",
            "\n",
            "##################################################################################\n",
            "              precision    recall  f1-score   support\n",
            "\n",
            "           1       0.88      0.93      0.91       228\n",
            "           2       0.93      0.87      0.90       214\n",
            "\n",
            "    accuracy                           0.90       442\n",
            "   macro avg       0.90      0.90      0.90       442\n",
            "weighted avg       0.90      0.90      0.90       442\n",
            "\n",
            "##################################################################################\n",
            "              precision    recall  f1-score   support\n",
            "\n",
            "           1       0.95      0.93      0.94       255\n",
            "           2       0.91      0.93      0.92       187\n",
            "\n",
            "    accuracy                           0.93       442\n",
            "   macro avg       0.93      0.93      0.93       442\n",
            "weighted avg       0.93      0.93      0.93       442\n",
            "\n",
            "##################################################################################\n",
            "              precision    recall  f1-score   support\n",
            "\n",
            "           1       0.91      0.93      0.92       242\n",
            "           2       0.92      0.90      0.91       200\n",
            "\n",
            "    accuracy                           0.92       442\n",
            "   macro avg       0.92      0.91      0.92       442\n",
            "weighted avg       0.92      0.92      0.92       442\n",
            "\n",
            "##################################################################################\n",
            "              precision    recall  f1-score   support\n",
            "\n",
            "           1       0.92      0.96      0.94       247\n",
            "           2       0.95      0.90      0.92       195\n",
            "\n",
            "    accuracy                           0.93       442\n",
            "   macro avg       0.93      0.93      0.93       442\n",
            "weighted avg       0.93      0.93      0.93       442\n",
            "\n",
            "##################################################################################\n"
          ]
        }
      ]
    },
    {
      "cell_type": "code",
      "metadata": {
        "colab": {
          "base_uri": "https://localhost:8080/"
        },
        "id": "UbyqF4DXb7d4",
        "outputId": "b9d3e8bc-4f2b-4ab4-c405-ffe7a9e27f74"
      },
      "source": [
        "#SVM classifier\n",
        "\n",
        "model_svm = SVC(C=10, gamma=0.1, kernel='rbf', probability=True)\n",
        "\n",
        "for train,test in kf.split(X_test_red):\n",
        "  model_svm.fit(X_train_red_onehot[train], y_train_red[train])\n",
        "  print(metrics.classification_report(y_test_red[test], model_svm.predict(X_test_red_onehot[test])))\n",
        "  print(\"##################################################################################\")"
      ],
      "execution_count": null,
      "outputs": [
        {
          "output_type": "stream",
          "name": "stdout",
          "text": [
            "              precision    recall  f1-score   support\n",
            "\n",
            "           1       0.96      0.96      0.96       259\n",
            "           2       0.94      0.95      0.94       184\n",
            "\n",
            "    accuracy                           0.95       443\n",
            "   macro avg       0.95      0.95      0.95       443\n",
            "weighted avg       0.95      0.95      0.95       443\n",
            "\n",
            "##################################################################################\n",
            "              precision    recall  f1-score   support\n",
            "\n",
            "           1       0.94      0.96      0.95       228\n",
            "           2       0.96      0.93      0.95       214\n",
            "\n",
            "    accuracy                           0.95       442\n",
            "   macro avg       0.95      0.95      0.95       442\n",
            "weighted avg       0.95      0.95      0.95       442\n",
            "\n",
            "##################################################################################\n",
            "              precision    recall  f1-score   support\n",
            "\n",
            "           1       0.95      0.96      0.96       255\n",
            "           2       0.95      0.93      0.94       187\n",
            "\n",
            "    accuracy                           0.95       442\n",
            "   macro avg       0.95      0.95      0.95       442\n",
            "weighted avg       0.95      0.95      0.95       442\n",
            "\n",
            "##################################################################################\n",
            "              precision    recall  f1-score   support\n",
            "\n",
            "           1       0.92      0.95      0.94       242\n",
            "           2       0.94      0.90      0.92       200\n",
            "\n",
            "    accuracy                           0.93       442\n",
            "   macro avg       0.93      0.93      0.93       442\n",
            "weighted avg       0.93      0.93      0.93       442\n",
            "\n",
            "##################################################################################\n",
            "              precision    recall  f1-score   support\n",
            "\n",
            "           1       0.93      0.98      0.96       247\n",
            "           2       0.98      0.91      0.94       195\n",
            "\n",
            "    accuracy                           0.95       442\n",
            "   macro avg       0.96      0.95      0.95       442\n",
            "weighted avg       0.95      0.95      0.95       442\n",
            "\n",
            "##################################################################################\n"
          ]
        }
      ]
    },
    {
      "cell_type": "code",
      "metadata": {
        "colab": {
          "base_uri": "https://localhost:8080/"
        },
        "id": "LK--sfkcNLHe",
        "outputId": "ad303c53-d57e-4901-e01d-0589690dc5b5"
      },
      "source": [
        "#Saving SVM Model \n",
        "svm_clf = SVC(kernel='rbf', gamma = 0.1, C = 10, probability=True)\n",
        "svm_clf = svm_clf.fit(X_train_red_onehot, y_train_red)\n",
        "tp, fn, fp, tn = metrics.confusion_matrix(y_test_red, svm_clf.predict(X_test_red_onehot)).ravel()\n",
        "accuracy = (tn+tp)/(fp+fn+tp+tn)\n",
        "precision = tp/(tp+fp)\n",
        "recall = tp/(tp+fn)\n",
        "fpr = fp/(fp+tn)\n",
        "f1 = 2*precision*recall/(precision + recall)\n",
        "pickle.dump(svm_clf, open(\"SVM_Final_Model\", 'wb'))\n",
        "print(accuracy)\n",
        "\n"
      ],
      "execution_count": null,
      "outputs": [
        {
          "output_type": "stream",
          "name": "stdout",
          "text": [
            "0.9633649932157394\n"
          ]
        }
      ]
    },
    {
      "cell_type": "code",
      "metadata": {
        "id": "JvUvaUqF3XJB",
        "colab": {
          "base_uri": "https://localhost:8080/"
        },
        "outputId": "5e30a14b-68e5-47e9-9e17-8a18f433ca68"
      },
      "source": [
        "filename_dt = 'SVM_Final_Model'\n",
        "loaded_model = pickle.load(open(filename_dt, 'rb'))\n",
        "tp, fn, fp, tn = metrics.confusion_matrix(y_test_red, loaded_model.predict(X_test_red_onehot)).ravel()\n",
        "accuracy = (tn+tp)/(fp+fn+tp+tn)\n",
        "recall = tp/(tp+fn)\n",
        "fpr = fp/(fp+tn)\n",
        "print(accuracy)\n",
        "print(recall)\n",
        "print(fpr)"
      ],
      "execution_count": null,
      "outputs": [
        {
          "output_type": "stream",
          "name": "stdout",
          "text": [
            "0.9633649932157394\n",
            "0.9756295694557271\n",
            "0.05204081632653061\n"
          ]
        }
      ]
    }
  ]
}